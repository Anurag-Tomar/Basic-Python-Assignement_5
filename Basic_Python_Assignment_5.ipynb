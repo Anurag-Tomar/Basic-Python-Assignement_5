{
  "nbformat": 4,
  "nbformat_minor": 0,
  "metadata": {
    "colab": {
      "name": "Basic Python Assignment_5.ipynb",
      "provenance": []
    },
    "kernelspec": {
      "name": "python3",
      "display_name": "Python 3"
    },
    "language_info": {
      "name": "python"
    }
  },
  "cells": [
    {
      "cell_type": "markdown",
      "source": [
        "\n",
        "1.What does an empty dictionary's code look like?\n",
        "\n",
        "Ans: d = {} or d = dict()\n",
        "\n",
        "2.what is the value of dictionary value with key 'foo' and the value 42 ?\n",
        "\n",
        "Ans: {'foo':42}\n",
        "\n",
        "3.What is the most significant distinction between a dictionary and a list?\n",
        "\n",
        "Ans: Dictionaries are represented by {} where as listed are represented by []\n",
        "The Items stored in a dictionary are Unordered , while the items in a list are ordered\n",
        "\n",
        "4.What happens if you try to access spam ['foo'] if spam is {'bar':100} ?\n",
        "\n",
        "Ans: It will throw keyError KeyError: 'foo'\n",
        "\n",
        "5.if a dictionary is stored in spam,what is the difference between the expressions 'cat' in spam and 'cat' in spam.keys() ?\n",
        "\n",
        "Ans: There is no difference . The operator checks whether a value exits as a key in the dictionary or not.\n",
        "\n",
        "\n",
        "6.if a dictionary is stored in spam,what is the difference between the expressions 'cat' in spam and 'cat' in spam.values() ?\n",
        "\n",
        "Ans:'cat' in spam checks whether there is a 'cat' key in the dictionary, while 'cat' in spam.values() checks whether there is a value 'cat' for one of the keys in spam.\n",
        "\n",
        "7.what is a shortcut for the following code ?\n",
        "if 'color' not in spam:\n",
        "    spam['color'] ='black'\n",
        "\n",
        "Ans: spam.setdefault('color','black')\n",
        "\n",
        "\n",
        "8.How do you 'pretty print' dictionary values using which modules and function ?\n",
        "\n",
        "Ans:We can pretty print a dictionary using three functions\n",
        "\n",
        "by using pprint() function of pprint module\n",
        "by using dumps() method of json module\n",
        "by using dumps() method of yaml module\n",
        "\n",
        "\n"
      ],
      "metadata": {
        "id": "1BGUBHbIwh-t"
      }
    },
    {
      "cell_type": "code",
      "source": [
        ""
      ],
      "metadata": {
        "id": "IENW3gcSxTHb"
      },
      "execution_count": null,
      "outputs": []
    }
  ]
}